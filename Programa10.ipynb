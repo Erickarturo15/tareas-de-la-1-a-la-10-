{
  "nbformat": 4,
  "nbformat_minor": 0,
  "metadata": {
    "colab": {
      "name": "Programa10.ipynb",
      "provenance": []
    },
    "kernelspec": {
      "name": "python3",
      "display_name": "Python 3"
    }
  },
  "cells": [
    {
      "cell_type": "code",
      "metadata": {
        "id": "RfcAx0KGmAOE",
        "outputId": "81e0e575-e828-48df-ef32-3823d61bebc3",
        "colab": {
          "base_uri": "https://localhost:8080/"
        }
      },
      "source": [
        "def area(radio):\n",
        "\treturn 3.1416 * radio\n",
        "\n",
        "def volumen(radio, altura):\n",
        "\tA = area(radio)\n",
        "\treturn A * altura\n",
        "\n",
        "\n",
        "r = int(input(\"Introduce el radio: \"))\n",
        "a = int(input(\"Introduce la altura: \"))\n",
        "\n",
        "vol = volumen(r,a)\n",
        "\n",
        "print('El volumen del cilindro es: {v} unidades cubicas'.format(v = vol))"
      ],
      "execution_count": 1,
      "outputs": [
        {
          "output_type": "stream",
          "text": [
            "Introduce el radio: 5\n",
            "Introduce la altura: 6\n",
            "El volumen del cilindro es: 94.248 unidades cubicas\n"
          ],
          "name": "stdout"
        }
      ]
    }
  ]
}