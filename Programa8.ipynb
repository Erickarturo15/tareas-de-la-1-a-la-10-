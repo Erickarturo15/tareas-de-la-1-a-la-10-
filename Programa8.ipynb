{
  "nbformat": 4,
  "nbformat_minor": 0,
  "metadata": {
    "colab": {
      "name": "Programa8.ipynb",
      "provenance": []
    },
    "kernelspec": {
      "name": "python3",
      "display_name": "Python 3"
    }
  },
  "cells": [
    {
      "cell_type": "code",
      "metadata": {
        "id": "p3wTbpg6kbsZ"
      },
      "source": [
        "base = int(input('Introduzca un numero entero: '))\n",
        "\n",
        "asterisco = '*'\n",
        "\n",
        "for i in range(base):\n",
        "  print(asterisco * (i + 1))"
      ],
      "execution_count": null,
      "outputs": []
    }
  ]
}