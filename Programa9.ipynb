{
  "nbformat": 4,
  "nbformat_minor": 0,
  "metadata": {
    "colab": {
      "name": "Programa9.ipynb",
      "provenance": []
    },
    "kernelspec": {
      "name": "python3",
      "display_name": "Python 3"
    }
  },
  "cells": [
    {
      "cell_type": "code",
      "metadata": {
        "id": "wM2_69n8lIrv",
        "outputId": "70ccff91-ca9d-4a70-9afc-345d1b789f99",
        "colab": {
          "base_uri": "https://localhost:8080/"
        }
      },
      "source": [
        "def factorial(num):\n",
        "\tres = num\n",
        "\tfor i in range(num, 1, -1):\n",
        "\t\tres = res * (i-1)\n",
        "\treturn res\n",
        "\n",
        "\n",
        "numero = int(input('Introduce un numero: '))\n",
        "\n",
        "while numero <= 0:\n",
        "\tnumero = int(input('El numero debe de ser positivo: '))\n",
        "\n",
        "resultado = factorial(numero)\n",
        "\n",
        "print('El factorial de {n} es: {r}'.format(n = numero, r = resultado))"
      ],
      "execution_count": 1,
      "outputs": [
        {
          "output_type": "stream",
          "text": [
            "Introduce un numero: 4\n",
            "El factorial de 4 es: 24\n"
          ],
          "name": "stdout"
        }
      ]
    }
  ]
}